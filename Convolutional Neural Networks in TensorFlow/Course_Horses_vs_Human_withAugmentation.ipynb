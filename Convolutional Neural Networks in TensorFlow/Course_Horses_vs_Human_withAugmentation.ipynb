{
 "cells": [
  {
   "cell_type": "markdown",
   "metadata": {
    "colab_type": "text",
    "id": "rX8mhOLljYeM"
   },
   "source": [
    "##### Copyright 2019 The TensorFlow Authors."
   ]
  },
  {
   "cell_type": "code",
   "execution_count": 0,
   "metadata": {
    "cellView": "form",
    "colab": {},
    "colab_type": "code",
    "id": "BZSlp3DAjdYf"
   },
   "outputs": [],
   "source": [
    "#@title Licensed under the Apache License, Version 2.0 (the \"License\");\n",
    "# you may not use this file except in compliance with the License.\n",
    "# You may obtain a copy of the License at\n",
    "#\n",
    "# https://www.apache.org/licenses/LICENSE-2.0\n",
    "#\n",
    "# Unless required by applicable law or agreed to in writing, software\n",
    "# distributed under the License is distributed on an \"AS IS\" BASIS,\n",
    "# WITHOUT WARRANTIES OR CONDITIONS OF ANY KIND, either express or implied.\n",
    "# See the License for the specific language governing permissions and\n",
    "# limitations under the License."
   ]
  },
  {
   "cell_type": "code",
   "execution_count": 1,
   "metadata": {
    "colab": {
     "base_uri": "https://localhost:8080/",
     "height": 386
    },
    "colab_type": "code",
    "id": "RXZT2UsyIVe_",
    "outputId": "c783e405-4c13-4e98-c551-eef9e9ef9af4"
   },
   "outputs": [
    {
     "name": "stdout",
     "output_type": "stream",
     "text": [
      "--2020-05-21 06:38:52--  https://storage.googleapis.com/laurencemoroney-blog.appspot.com/horse-or-human.zip\n",
      "Resolving storage.googleapis.com (storage.googleapis.com)... 74.125.142.128, 2607:f8b0:400e:c08::80\n",
      "Connecting to storage.googleapis.com (storage.googleapis.com)|74.125.142.128|:443... connected.\n",
      "HTTP request sent, awaiting response... 200 OK\n",
      "Length: 149574867 (143M) [application/zip]\n",
      "Saving to: ‘/tmp/horse-or-human.zip’\n",
      "\n",
      "/tmp/horse-or-human 100%[===================>] 142.65M  92.6MB/s    in 1.5s    \n",
      "\n",
      "2020-05-21 06:38:54 (92.6 MB/s) - ‘/tmp/horse-or-human.zip’ saved [149574867/149574867]\n",
      "\n",
      "--2020-05-21 06:38:54--  https://storage.googleapis.com/laurencemoroney-blog.appspot.com/validation-horse-or-human.zip\n",
      "Resolving storage.googleapis.com (storage.googleapis.com)... 74.125.195.128, 2607:f8b0:400e:c07::80\n",
      "Connecting to storage.googleapis.com (storage.googleapis.com)|74.125.195.128|:443... connected.\n",
      "HTTP request sent, awaiting response... 200 OK\n",
      "Length: 11480187 (11M) [application/zip]\n",
      "Saving to: ‘/tmp/validation-horse-or-human.zip’\n",
      "\n",
      "/tmp/validation-hor 100%[===================>]  10.95M  52.3MB/s    in 0.2s    \n",
      "\n",
      "2020-05-21 06:38:55 (52.3 MB/s) - ‘/tmp/validation-horse-or-human.zip’ saved [11480187/11480187]\n",
      "\n"
     ]
    }
   ],
   "source": [
    "!wget --no-check-certificate \\\n",
    "    https://storage.googleapis.com/laurencemoroney-blog.appspot.com/horse-or-human.zip \\\n",
    "    -O /tmp/horse-or-human.zip\n",
    "\n",
    "!wget --no-check-certificate \\\n",
    "    https://storage.googleapis.com/laurencemoroney-blog.appspot.com/validation-horse-or-human.zip \\\n",
    "    -O /tmp/validation-horse-or-human.zip\n",
    "  \n",
    "import os\n",
    "import zipfile\n",
    "\n",
    "local_zip = '/tmp/horse-or-human.zip'\n",
    "zip_ref = zipfile.ZipFile(local_zip, 'r')\n",
    "zip_ref.extractall('/tmp/horse-or-human')\n",
    "local_zip = '/tmp/validation-horse-or-human.zip'\n",
    "zip_ref = zipfile.ZipFile(local_zip, 'r')\n",
    "zip_ref.extractall('/tmp/validation-horse-or-human')\n",
    "zip_ref.close()\n",
    "# Directory with our training horse pictures\n",
    "train_horse_dir = os.path.join('/tmp/horse-or-human/horses')\n",
    "\n",
    "# Directory with our training human pictures\n",
    "train_human_dir = os.path.join('/tmp/horse-or-human/humans')\n",
    "\n",
    "# Directory with our training horse pictures\n",
    "validation_horse_dir = os.path.join('/tmp/validation-horse-or-human/horses')\n",
    "\n",
    "# Directory with our training human pictures\n",
    "validation_human_dir = os.path.join('/tmp/validation-horse-or-human/humans')"
   ]
  },
  {
   "cell_type": "markdown",
   "metadata": {
    "colab_type": "text",
    "id": "5oqBkNBJmtUv"
   },
   "source": [
    "## Building a Small Model from Scratch\n",
    "\n",
    "But before we continue, let's start defining the model:\n",
    "\n",
    "Step 1 will be to import tensorflow."
   ]
  },
  {
   "cell_type": "code",
   "execution_count": 0,
   "metadata": {
    "colab": {},
    "colab_type": "code",
    "id": "qvfZg3LQbD-5"
   },
   "outputs": [],
   "source": [
    "import tensorflow as tf"
   ]
  },
  {
   "cell_type": "markdown",
   "metadata": {
    "colab_type": "text",
    "id": "BnhYCP4tdqjC"
   },
   "source": [
    "We then add convolutional layers as in the previous example, and flatten the final result to feed into the densely connected layers."
   ]
  },
  {
   "cell_type": "markdown",
   "metadata": {
    "colab_type": "text",
    "id": "gokG5HKpdtzm"
   },
   "source": [
    "Finally we add the densely connected layers. \n",
    "\n",
    "Note that because we are facing a two-class classification problem, i.e. a *binary classification problem*, we will end our network with a [*sigmoid* activation](https://wikipedia.org/wiki/Sigmoid_function), so that the output of our network will be a single scalar between 0 and 1, encoding the probability that the current image is class 1 (as opposed to class 0)."
   ]
  },
  {
   "cell_type": "code",
   "execution_count": 0,
   "metadata": {
    "colab": {},
    "colab_type": "code",
    "id": "PixZ2s5QbYQ3"
   },
   "outputs": [],
   "source": [
    "model = tf.keras.models.Sequential([\n",
    "    # Note the input shape is the desired size of the image 300x300 with 3 bytes color\n",
    "    # This is the first convolution\n",
    "    tf.keras.layers.Conv2D(16, (3,3), activation='relu', input_shape=(300, 300, 3)),\n",
    "    tf.keras.layers.MaxPooling2D(2, 2),\n",
    "    # The second convolution\n",
    "    tf.keras.layers.Conv2D(32, (3,3), activation='relu'),\n",
    "    tf.keras.layers.MaxPooling2D(2,2),\n",
    "    # The third convolution\n",
    "    tf.keras.layers.Conv2D(64, (3,3), activation='relu'),\n",
    "    tf.keras.layers.MaxPooling2D(2,2),\n",
    "    # The fourth convolution\n",
    "    tf.keras.layers.Conv2D(64, (3,3), activation='relu'),\n",
    "    tf.keras.layers.MaxPooling2D(2,2),\n",
    "    # The fifth convolution\n",
    "    tf.keras.layers.Conv2D(64, (3,3), activation='relu'),\n",
    "    tf.keras.layers.MaxPooling2D(2,2),\n",
    "    # Flatten the results to feed into a DNN\n",
    "    tf.keras.layers.Flatten(),\n",
    "    # 512 neuron hidden layer\n",
    "    tf.keras.layers.Dense(512, activation='relu'),\n",
    "    # Only 1 output neuron. It will contain a value from 0-1 where 0 for 1 class ('horses') and 1 for the other ('humans')\n",
    "    tf.keras.layers.Dense(1, activation='sigmoid')\n",
    "])"
   ]
  },
  {
   "cell_type": "code",
   "execution_count": 0,
   "metadata": {
    "colab": {},
    "colab_type": "code",
    "id": "8DHWhFP_uhq3"
   },
   "outputs": [],
   "source": [
    "from tensorflow.keras.optimizers import RMSprop\n",
    "\n",
    "model.compile(loss='binary_crossentropy',\n",
    "              optimizer=RMSprop(lr=1e-4),\n",
    "              metrics=['accuracy'])"
   ]
  },
  {
   "cell_type": "code",
   "execution_count": 5,
   "metadata": {
    "colab": {
     "base_uri": "https://localhost:8080/",
     "height": 50
    },
    "colab_type": "code",
    "id": "ClebU9NJg99G",
    "outputId": "b8ec039e-1b58-43b1-8d02-337c3630fbbc"
   },
   "outputs": [
    {
     "name": "stdout",
     "output_type": "stream",
     "text": [
      "Found 1027 images belonging to 2 classes.\n",
      "Found 256 images belonging to 2 classes.\n"
     ]
    }
   ],
   "source": [
    "from tensorflow.keras.preprocessing.image import ImageDataGenerator\n",
    "\n",
    "# All images will be rescaled by 1./255\n",
    "train_datagen = ImageDataGenerator(\n",
    "      rescale=1./255,\n",
    "      rotation_range=40,\n",
    "      width_shift_range=0.2,\n",
    "      height_shift_range=0.2,\n",
    "      shear_range=0.2,\n",
    "      zoom_range=0.2,\n",
    "      horizontal_flip=True,\n",
    "      fill_mode='nearest')\n",
    "\n",
    "validation_datagen = ImageDataGenerator(rescale=1/255)\n",
    "\n",
    "# Flow training images in batches of 128 using train_datagen generator\n",
    "train_generator = train_datagen.flow_from_directory(\n",
    "        '/tmp/horse-or-human/',  # This is the source directory for training images\n",
    "        target_size=(300, 300),  # All images will be resized to 150x150\n",
    "        batch_size=128,\n",
    "        # Since we use binary_crossentropy loss, we need binary labels\n",
    "        class_mode='binary')\n",
    "\n",
    "# Flow training images in batches of 128 using train_datagen generator\n",
    "validation_generator = validation_datagen.flow_from_directory(\n",
    "        '/tmp/validation-horse-or-human/',  # This is the source directory for training images\n",
    "        target_size=(300, 300),  # All images will be resized to 150x150\n",
    "        batch_size=32,\n",
    "        # Since we use binary_crossentropy loss, we need binary labels\n",
    "        class_mode='binary')"
   ]
  },
  {
   "cell_type": "code",
   "execution_count": 6,
   "metadata": {
    "colab": {
     "base_uri": "https://localhost:8080/",
     "height": 1000
    },
    "colab_type": "code",
    "id": "Fb1_lgobv81m",
    "outputId": "0990f683-afab-406e-ce98-a85bcf10cc55"
   },
   "outputs": [
    {
     "name": "stdout",
     "output_type": "stream",
     "text": [
      "Epoch 1/100\n",
      "8/8 [==============================] - 16s 2s/step - loss: 0.6875 - accuracy: 0.5061 - val_loss: 0.7501 - val_accuracy: 0.5000\n",
      "Epoch 2/100\n",
      "8/8 [==============================] - 19s 2s/step - loss: 0.6917 - accuracy: 0.5339 - val_loss: 0.6479 - val_accuracy: 0.6094\n",
      "Epoch 3/100\n",
      "8/8 [==============================] - 19s 2s/step - loss: 0.6681 - accuracy: 0.6674 - val_loss: 0.6327 - val_accuracy: 0.5742\n",
      "Epoch 4/100\n",
      "8/8 [==============================] - 19s 2s/step - loss: 0.6472 - accuracy: 0.6852 - val_loss: 0.5940 - val_accuracy: 0.8008\n",
      "Epoch 5/100\n",
      "8/8 [==============================] - 18s 2s/step - loss: 0.6282 - accuracy: 0.6908 - val_loss: 0.5748 - val_accuracy: 0.7695\n",
      "Epoch 6/100\n",
      "8/8 [==============================] - 19s 2s/step - loss: 0.6093 - accuracy: 0.6941 - val_loss: 0.8983 - val_accuracy: 0.5000\n",
      "Epoch 7/100\n",
      "8/8 [==============================] - 19s 2s/step - loss: 0.6034 - accuracy: 0.6730 - val_loss: 0.6245 - val_accuracy: 0.5820\n",
      "Epoch 8/100\n",
      "8/8 [==============================] - 18s 2s/step - loss: 0.6042 - accuracy: 0.7052 - val_loss: 0.5194 - val_accuracy: 0.7109\n",
      "Epoch 9/100\n",
      "8/8 [==============================] - 18s 2s/step - loss: 0.5525 - accuracy: 0.7230 - val_loss: 0.5092 - val_accuracy: 0.7070\n",
      "Epoch 10/100\n",
      "8/8 [==============================] - 21s 3s/step - loss: 0.5290 - accuracy: 0.7475 - val_loss: 0.5796 - val_accuracy: 0.6406\n",
      "Epoch 11/100\n",
      "8/8 [==============================] - 21s 3s/step - loss: 0.5471 - accuracy: 0.7119 - val_loss: 0.9995 - val_accuracy: 0.5000\n",
      "Epoch 12/100\n",
      "8/8 [==============================] - 20s 2s/step - loss: 0.5068 - accuracy: 0.7656 - val_loss: 0.7419 - val_accuracy: 0.5898\n",
      "Epoch 13/100\n",
      "8/8 [==============================] - 20s 3s/step - loss: 0.5166 - accuracy: 0.7305 - val_loss: 0.7746 - val_accuracy: 0.5859\n",
      "Epoch 14/100\n",
      "8/8 [==============================] - 18s 2s/step - loss: 0.5309 - accuracy: 0.7341 - val_loss: 0.6900 - val_accuracy: 0.6211\n",
      "Epoch 15/100\n",
      "8/8 [==============================] - 18s 2s/step - loss: 0.4860 - accuracy: 0.7542 - val_loss: 0.2849 - val_accuracy: 0.9297\n",
      "Epoch 16/100\n",
      "8/8 [==============================] - 18s 2s/step - loss: 0.5577 - accuracy: 0.7319 - val_loss: 0.8160 - val_accuracy: 0.5938\n",
      "Epoch 17/100\n",
      "8/8 [==============================] - 18s 2s/step - loss: 0.4732 - accuracy: 0.7720 - val_loss: 0.7801 - val_accuracy: 0.6250\n",
      "Epoch 18/100\n",
      "8/8 [==============================] - 20s 2s/step - loss: 0.4386 - accuracy: 0.8096 - val_loss: 0.9223 - val_accuracy: 0.5938\n",
      "Epoch 19/100\n",
      "8/8 [==============================] - 20s 3s/step - loss: 0.4449 - accuracy: 0.7852 - val_loss: 0.8192 - val_accuracy: 0.6289\n",
      "Epoch 20/100\n",
      "8/8 [==============================] - 20s 2s/step - loss: 0.4464 - accuracy: 0.7988 - val_loss: 0.7599 - val_accuracy: 0.6641\n",
      "Epoch 21/100\n",
      "8/8 [==============================] - 18s 2s/step - loss: 0.4567 - accuracy: 0.7864 - val_loss: 0.7427 - val_accuracy: 0.6523\n",
      "Epoch 22/100\n",
      "8/8 [==============================] - 18s 2s/step - loss: 0.4608 - accuracy: 0.7887 - val_loss: 0.8908 - val_accuracy: 0.6172\n",
      "Epoch 23/100\n",
      "8/8 [==============================] - 18s 2s/step - loss: 0.4126 - accuracy: 0.8076 - val_loss: 1.0764 - val_accuracy: 0.6133\n",
      "Epoch 24/100\n",
      "8/8 [==============================] - 18s 2s/step - loss: 0.5061 - accuracy: 0.7831 - val_loss: 1.1846 - val_accuracy: 0.6016\n",
      "Epoch 25/100\n",
      "8/8 [==============================] - 18s 2s/step - loss: 0.3936 - accuracy: 0.8154 - val_loss: 1.5878 - val_accuracy: 0.5352\n",
      "Epoch 26/100\n",
      "8/8 [==============================] - 18s 2s/step - loss: 0.4265 - accuracy: 0.7898 - val_loss: 0.8378 - val_accuracy: 0.6875\n",
      "Epoch 27/100\n",
      "8/8 [==============================] - 18s 2s/step - loss: 0.4565 - accuracy: 0.7731 - val_loss: 0.9734 - val_accuracy: 0.6602\n",
      "Epoch 28/100\n",
      "8/8 [==============================] - 18s 2s/step - loss: 0.3908 - accuracy: 0.8220 - val_loss: 1.5500 - val_accuracy: 0.5625\n",
      "Epoch 29/100\n",
      "8/8 [==============================] - 20s 2s/step - loss: 0.3634 - accuracy: 0.8398 - val_loss: 1.3818 - val_accuracy: 0.5977\n",
      "Epoch 30/100\n",
      "8/8 [==============================] - 18s 2s/step - loss: 0.3507 - accuracy: 0.8521 - val_loss: 2.5136 - val_accuracy: 0.5039\n",
      "Epoch 31/100\n",
      "8/8 [==============================] - 18s 2s/step - loss: 0.4430 - accuracy: 0.7942 - val_loss: 1.3767 - val_accuracy: 0.6016\n",
      "Epoch 32/100\n",
      "8/8 [==============================] - 18s 2s/step - loss: 0.3587 - accuracy: 0.8532 - val_loss: 1.4243 - val_accuracy: 0.6172\n",
      "Epoch 33/100\n",
      "8/8 [==============================] - 21s 3s/step - loss: 0.3783 - accuracy: 0.8209 - val_loss: 1.4170 - val_accuracy: 0.6211\n",
      "Epoch 34/100\n",
      "8/8 [==============================] - 18s 2s/step - loss: 0.3596 - accuracy: 0.8476 - val_loss: 1.2281 - val_accuracy: 0.6719\n",
      "Epoch 35/100\n",
      "8/8 [==============================] - 18s 2s/step - loss: 0.3547 - accuracy: 0.8476 - val_loss: 1.8721 - val_accuracy: 0.5742\n",
      "Epoch 36/100\n",
      "8/8 [==============================] - 18s 2s/step - loss: 0.4346 - accuracy: 0.8176 - val_loss: 1.7724 - val_accuracy: 0.5820\n",
      "Epoch 37/100\n",
      "8/8 [==============================] - 18s 2s/step - loss: 0.3265 - accuracy: 0.8610 - val_loss: 0.5751 - val_accuracy: 0.8008\n",
      "Epoch 38/100\n",
      "8/8 [==============================] - 18s 2s/step - loss: 0.4206 - accuracy: 0.8220 - val_loss: 1.7875 - val_accuracy: 0.5820\n",
      "Epoch 39/100\n",
      "8/8 [==============================] - 18s 2s/step - loss: 0.3339 - accuracy: 0.8487 - val_loss: 1.1597 - val_accuracy: 0.6680\n",
      "Epoch 40/100\n",
      "8/8 [==============================] - 18s 2s/step - loss: 0.3145 - accuracy: 0.8598 - val_loss: 1.5238 - val_accuracy: 0.6406\n",
      "Epoch 41/100\n",
      "8/8 [==============================] - 20s 3s/step - loss: 0.4122 - accuracy: 0.8198 - val_loss: 1.6667 - val_accuracy: 0.5781\n",
      "Epoch 42/100\n",
      "8/8 [==============================] - 18s 2s/step - loss: 0.3069 - accuracy: 0.8732 - val_loss: 1.4946 - val_accuracy: 0.6172\n",
      "Epoch 43/100\n",
      "8/8 [==============================] - 18s 2s/step - loss: 0.3011 - accuracy: 0.8799 - val_loss: 2.6757 - val_accuracy: 0.5195\n",
      "Epoch 44/100\n",
      "8/8 [==============================] - 18s 2s/step - loss: 0.3259 - accuracy: 0.8565 - val_loss: 1.9036 - val_accuracy: 0.5742\n",
      "Epoch 45/100\n",
      "8/8 [==============================] - 20s 3s/step - loss: 0.2804 - accuracy: 0.8899 - val_loss: 1.5694 - val_accuracy: 0.6406\n",
      "Epoch 46/100\n",
      "8/8 [==============================] - 18s 2s/step - loss: 0.3020 - accuracy: 0.8509 - val_loss: 1.1567 - val_accuracy: 0.6953\n",
      "Epoch 47/100\n",
      "8/8 [==============================] - 18s 2s/step - loss: 0.3006 - accuracy: 0.8732 - val_loss: 1.9552 - val_accuracy: 0.5859\n",
      "Epoch 48/100\n",
      "8/8 [==============================] - 18s 2s/step - loss: 0.2804 - accuracy: 0.8843 - val_loss: 2.5005 - val_accuracy: 0.5469\n",
      "Epoch 49/100\n",
      "8/8 [==============================] - 18s 2s/step - loss: 0.3206 - accuracy: 0.8643 - val_loss: 1.9464 - val_accuracy: 0.5820\n",
      "Epoch 50/100\n",
      "8/8 [==============================] - 18s 2s/step - loss: 0.3142 - accuracy: 0.8721 - val_loss: 2.4243 - val_accuracy: 0.5547\n",
      "Epoch 51/100\n",
      "8/8 [==============================] - 18s 2s/step - loss: 0.3175 - accuracy: 0.8587 - val_loss: 2.0933 - val_accuracy: 0.5625\n",
      "Epoch 52/100\n",
      "8/8 [==============================] - 18s 2s/step - loss: 0.2390 - accuracy: 0.9066 - val_loss: 0.4252 - val_accuracy: 0.8398\n",
      "Epoch 53/100\n",
      "8/8 [==============================] - 18s 2s/step - loss: 0.3420 - accuracy: 0.8743 - val_loss: 2.1062 - val_accuracy: 0.5781\n",
      "Epoch 54/100\n",
      "8/8 [==============================] - 18s 2s/step - loss: 0.2457 - accuracy: 0.9155 - val_loss: 1.6572 - val_accuracy: 0.6523\n",
      "Epoch 55/100\n",
      "8/8 [==============================] - 18s 2s/step - loss: 0.2863 - accuracy: 0.8743 - val_loss: 2.3482 - val_accuracy: 0.5664\n",
      "Epoch 56/100\n",
      "8/8 [==============================] - 18s 2s/step - loss: 0.2293 - accuracy: 0.9043 - val_loss: 2.3135 - val_accuracy: 0.5820\n",
      "Epoch 57/100\n",
      "8/8 [==============================] - 21s 3s/step - loss: 0.2400 - accuracy: 0.9010 - val_loss: 2.3649 - val_accuracy: 0.5781\n",
      "Epoch 58/100\n",
      "8/8 [==============================] - 18s 2s/step - loss: 0.2527 - accuracy: 0.8943 - val_loss: 4.0318 - val_accuracy: 0.5078\n",
      "Epoch 59/100\n",
      "8/8 [==============================] - 20s 3s/step - loss: 0.2271 - accuracy: 0.9066 - val_loss: 2.8793 - val_accuracy: 0.5508\n",
      "Epoch 60/100\n",
      "8/8 [==============================] - 18s 2s/step - loss: 0.2812 - accuracy: 0.8888 - val_loss: 2.2910 - val_accuracy: 0.5898\n",
      "Epoch 61/100\n",
      "8/8 [==============================] - 21s 3s/step - loss: 0.1975 - accuracy: 0.9255 - val_loss: 2.6207 - val_accuracy: 0.5742\n",
      "Epoch 62/100\n",
      "8/8 [==============================] - 18s 2s/step - loss: 0.2224 - accuracy: 0.9088 - val_loss: 4.0038 - val_accuracy: 0.5117\n",
      "Epoch 63/100\n",
      "8/8 [==============================] - 18s 2s/step - loss: 0.2629 - accuracy: 0.8921 - val_loss: 2.5917 - val_accuracy: 0.5742\n",
      "Epoch 64/100\n",
      "8/8 [==============================] - 18s 2s/step - loss: 0.2363 - accuracy: 0.8954 - val_loss: 1.8549 - val_accuracy: 0.6289\n",
      "Epoch 65/100\n",
      "8/8 [==============================] - 18s 2s/step - loss: 0.2056 - accuracy: 0.9232 - val_loss: 3.2189 - val_accuracy: 0.5547\n",
      "Epoch 66/100\n",
      "8/8 [==============================] - 20s 3s/step - loss: 0.1919 - accuracy: 0.9288 - val_loss: 2.5317 - val_accuracy: 0.5977\n",
      "Epoch 67/100\n",
      "8/8 [==============================] - 18s 2s/step - loss: 0.2861 - accuracy: 0.8732 - val_loss: 1.7772 - val_accuracy: 0.6641\n",
      "Epoch 68/100\n",
      "8/8 [==============================] - 18s 2s/step - loss: 0.1902 - accuracy: 0.9355 - val_loss: 2.3489 - val_accuracy: 0.6055\n",
      "Epoch 69/100\n",
      "8/8 [==============================] - 18s 2s/step - loss: 0.2260 - accuracy: 0.9055 - val_loss: 2.9984 - val_accuracy: 0.5586\n",
      "Epoch 70/100\n",
      "8/8 [==============================] - 18s 2s/step - loss: 0.1894 - accuracy: 0.9255 - val_loss: 1.7415 - val_accuracy: 0.6719\n",
      "Epoch 71/100\n",
      "8/8 [==============================] - 18s 2s/step - loss: 0.2276 - accuracy: 0.9077 - val_loss: 2.0776 - val_accuracy: 0.6523\n",
      "Epoch 72/100\n",
      "8/8 [==============================] - 18s 2s/step - loss: 0.1729 - accuracy: 0.9288 - val_loss: 2.7129 - val_accuracy: 0.6055\n",
      "Epoch 73/100\n",
      "8/8 [==============================] - 18s 2s/step - loss: 0.2299 - accuracy: 0.9055 - val_loss: 2.1800 - val_accuracy: 0.6523\n",
      "Epoch 74/100\n",
      "8/8 [==============================] - 20s 2s/step - loss: 0.1756 - accuracy: 0.9316 - val_loss: 3.3175 - val_accuracy: 0.5586\n",
      "Epoch 75/100\n",
      "8/8 [==============================] - 18s 2s/step - loss: 0.2043 - accuracy: 0.9132 - val_loss: 3.2066 - val_accuracy: 0.5625\n",
      "Epoch 76/100\n",
      "8/8 [==============================] - 18s 2s/step - loss: 0.2288 - accuracy: 0.9099 - val_loss: 2.5735 - val_accuracy: 0.6133\n",
      "Epoch 77/100\n",
      "8/8 [==============================] - 18s 2s/step - loss: 0.1394 - accuracy: 0.9555 - val_loss: 2.3819 - val_accuracy: 0.6562\n",
      "Epoch 78/100\n",
      "8/8 [==============================] - 18s 2s/step - loss: 0.1760 - accuracy: 0.9266 - val_loss: 5.4632 - val_accuracy: 0.5117\n",
      "Epoch 79/100\n",
      "8/8 [==============================] - 18s 2s/step - loss: 0.2640 - accuracy: 0.8910 - val_loss: 2.8415 - val_accuracy: 0.5859\n",
      "Epoch 80/100\n",
      "8/8 [==============================] - 18s 2s/step - loss: 0.1684 - accuracy: 0.9333 - val_loss: 3.3974 - val_accuracy: 0.5664\n",
      "Epoch 81/100\n",
      "8/8 [==============================] - 20s 2s/step - loss: 0.1741 - accuracy: 0.9375 - val_loss: 2.6607 - val_accuracy: 0.6211\n",
      "Epoch 82/100\n",
      "8/8 [==============================] - 18s 2s/step - loss: 0.2406 - accuracy: 0.8977 - val_loss: 2.5205 - val_accuracy: 0.6133\n",
      "Epoch 83/100\n",
      "8/8 [==============================] - 18s 2s/step - loss: 0.1372 - accuracy: 0.9488 - val_loss: 3.3813 - val_accuracy: 0.5781\n",
      "Epoch 84/100\n",
      "8/8 [==============================] - 18s 2s/step - loss: 0.1571 - accuracy: 0.9366 - val_loss: 2.9576 - val_accuracy: 0.6094\n",
      "Epoch 85/100\n",
      "8/8 [==============================] - 18s 2s/step - loss: 0.1770 - accuracy: 0.9355 - val_loss: 1.4830 - val_accuracy: 0.7109\n",
      "Epoch 86/100\n",
      "8/8 [==============================] - 20s 3s/step - loss: 0.1209 - accuracy: 0.9577 - val_loss: 2.7113 - val_accuracy: 0.6484\n",
      "Epoch 87/100\n",
      "8/8 [==============================] - 20s 3s/step - loss: 0.2081 - accuracy: 0.9132 - val_loss: 2.2288 - val_accuracy: 0.6680\n",
      "Epoch 88/100\n",
      "8/8 [==============================] - 18s 2s/step - loss: 0.1729 - accuracy: 0.9355 - val_loss: 2.7829 - val_accuracy: 0.6055\n",
      "Epoch 89/100\n",
      "8/8 [==============================] - 18s 2s/step - loss: 0.1780 - accuracy: 0.9232 - val_loss: 2.5919 - val_accuracy: 0.6172\n",
      "Epoch 90/100\n",
      "8/8 [==============================] - 18s 2s/step - loss: 0.1770 - accuracy: 0.9299 - val_loss: 2.9373 - val_accuracy: 0.6172\n",
      "Epoch 91/100\n",
      "8/8 [==============================] - 18s 2s/step - loss: 0.1352 - accuracy: 0.9444 - val_loss: 4.1592 - val_accuracy: 0.5547\n",
      "Epoch 92/100\n",
      "8/8 [==============================] - 18s 2s/step - loss: 0.2399 - accuracy: 0.9110 - val_loss: 2.2139 - val_accuracy: 0.6523\n",
      "Epoch 93/100\n",
      "8/8 [==============================] - 21s 3s/step - loss: 0.1400 - accuracy: 0.9422 - val_loss: 2.6776 - val_accuracy: 0.6250\n",
      "Epoch 94/100\n",
      "8/8 [==============================] - 20s 3s/step - loss: 0.1438 - accuracy: 0.9444 - val_loss: 2.3397 - val_accuracy: 0.6484\n",
      "Epoch 95/100\n",
      "8/8 [==============================] - 18s 2s/step - loss: 0.1746 - accuracy: 0.9232 - val_loss: 1.8065 - val_accuracy: 0.6953\n",
      "Epoch 96/100\n",
      "8/8 [==============================] - 20s 2s/step - loss: 0.1388 - accuracy: 0.9561 - val_loss: 3.4287 - val_accuracy: 0.5820\n",
      "Epoch 97/100\n",
      "8/8 [==============================] - 20s 2s/step - loss: 0.1486 - accuracy: 0.9375 - val_loss: 2.5905 - val_accuracy: 0.6484\n",
      "Epoch 98/100\n",
      "8/8 [==============================] - 18s 2s/step - loss: 0.1802 - accuracy: 0.9344 - val_loss: 2.9116 - val_accuracy: 0.6094\n",
      "Epoch 99/100\n",
      "8/8 [==============================] - 20s 3s/step - loss: 0.1270 - accuracy: 0.9600 - val_loss: 2.4954 - val_accuracy: 0.6562\n",
      "Epoch 100/100\n",
      "8/8 [==============================] - 20s 3s/step - loss: 0.1449 - accuracy: 0.9434 - val_loss: 4.2765 - val_accuracy: 0.5508\n"
     ]
    }
   ],
   "source": [
    "history = model.fit(\n",
    "      train_generator,\n",
    "      steps_per_epoch=8,  \n",
    "      epochs=100,\n",
    "      verbose=1,\n",
    "      validation_data = validation_generator,\n",
    "      validation_steps=8)"
   ]
  },
  {
   "cell_type": "code",
   "execution_count": 7,
   "metadata": {
    "colab": {
     "base_uri": "https://localhost:8080/",
     "height": 545
    },
    "colab_type": "code",
    "id": "7zNPRWOVJdOH",
    "outputId": "512a88bd-163e-4b61-cedd-6af9aac7f6f5"
   },
   "outputs": [
    {
     "data": {
      "image/png": "[encoded data removed]",
      "text/plain": [
       "<Figure size 432x288 with 1 Axes>"
      ]
     },
     "metadata": {
      "needs_background": "light",
      "tags": []
     },
     "output_type": "display_data"
    },
    {
     "data": {
      "image/png": "[encoded data removed]",
      "text/plain": [
       "<Figure size 432x288 with 1 Axes>"
      ]
     },
     "metadata": {
      "needs_background": "light",
      "tags": []
     },
     "output_type": "display_data"
    }
   ],
   "source": [
    "import matplotlib.pyplot as plt\n",
    "acc = history.history['accuracy']\n",
    "val_acc = history.history['val_accuracy']\n",
    "loss = history.history['loss']\n",
    "val_loss = history.history['val_loss']\n",
    "\n",
    "epochs = range(len(acc))\n",
    "\n",
    "plt.plot(epochs, acc, 'r', label='Training accuracy')\n",
    "plt.plot(epochs, val_acc, 'b', label='Validation accuracy')\n",
    "plt.title('Training and validation accuracy')\n",
    "\n",
    "plt.figure()\n",
    "\n",
    "plt.plot(epochs, loss, 'r', label='Training Loss')\n",
    "plt.plot(epochs, val_loss, 'b', label='Validation Loss')\n",
    "plt.title('Training and validation loss')\n",
    "plt.legend()\n",
    "\n",
    "plt.show()"
   ]
  }
 ],
 "metadata": {
  "accelerator": "GPU",
  "colab": {
   "collapsed_sections": [],
   "name": "Course 2 - Part 4 - Lesson 4 - Notebook.ipynb",
   "provenance": [],
   "toc_visible": true
  },
  "kernelspec": {
   "display_name": "Python 3",
   "name": "python3"
  }
 },
 "nbformat": 4,
 "nbformat_minor": 0
}
