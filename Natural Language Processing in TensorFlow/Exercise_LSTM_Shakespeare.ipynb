{
 "cells": [
  {
   "cell_type": "code",
   "execution_count": 0,
   "metadata": {
    "colab": {},
    "colab_type": "code",
    "id": "zX4Kg8DUTKWO"
   },
   "outputs": [],
   "source": [
    "#@title Licensed under the Apache License, Version 2.0 (the \"License\");\n",
    "# you may not use this file except in compliance with the License.\n",
    "# You may obtain a copy of the License at\n",
    "#\n",
    "# https://www.apache.org/licenses/LICENSE-2.0\n",
    "#\n",
    "# Unless required by applicable law or agreed to in writing, software\n",
    "# distributed under the License is distributed on an \"AS IS\" BASIS,\n",
    "# WITHOUT WARRANTIES OR CONDITIONS OF ANY KIND, either express or implied.\n",
    "# See the License for the specific language governing permissions and\n",
    "# limitations under the License."
   ]
  },
  {
   "cell_type": "code",
   "execution_count": 0,
   "metadata": {
    "colab": {},
    "colab_type": "code",
    "id": "BOwsuGQQY9OL"
   },
   "outputs": [],
   "source": [
    "from tensorflow.keras.preprocessing.sequence import pad_sequences\n",
    "from tensorflow.keras.layers import Embedding, LSTM, Dense, Dropout, Bidirectional\n",
    "from tensorflow.keras.preprocessing.text import Tokenizer\n",
    "from tensorflow.keras.models import Sequential\n",
    "from tensorflow.keras.optimizers import Adam\n",
    "from tensorflow.keras import regularizers\n",
    "import tensorflow.keras.utils as ku \n",
    "import numpy as np "
   ]
  },
  {
   "cell_type": "code",
   "execution_count": 3,
   "metadata": {
    "colab": {
     "base_uri": "https://localhost:8080/",
     "height": 202
    },
    "colab_type": "code",
    "id": "PRnDnCW-Z7qv",
    "outputId": "17bd987a-ec0f-4a0c-ba03-e7e1f4daf8dd"
   },
   "outputs": [
    {
     "name": "stdout",
     "output_type": "stream",
     "text": [
      "--2020-05-23 18:57:39--  https://storage.googleapis.com/laurencemoroney-blog.appspot.com/sonnets.txt\n",
      "Resolving storage.googleapis.com (storage.googleapis.com)... 172.253.118.128, 2404:6800:4003:c04::80\n",
      "Connecting to storage.googleapis.com (storage.googleapis.com)|172.253.118.128|:443... connected.\n",
      "HTTP request sent, awaiting response... 200 OK\n",
      "Length: 93578 (91K) [text/plain]\n",
      "Saving to: ‘/tmp/sonnets.txt’\n",
      "\n",
      "\r/tmp/sonnets.txt      0%[                    ]       0  --.-KB/s               \r/tmp/sonnets.txt    100%[===================>]  91.38K  --.-KB/s    in 0.001s  \n",
      "\n",
      "2020-05-23 18:57:40 (121 MB/s) - ‘/tmp/sonnets.txt’ saved [93578/93578]\n",
      "\n"
     ]
    }
   ],
   "source": [
    "tokenizer = Tokenizer()\n",
    "!wget --no-check-certificate \\\n",
    "    https://storage.googleapis.com/laurencemoroney-blog.appspot.com/sonnets.txt \\\n",
    "    -O /tmp/sonnets.txt\n",
    "data = open('/tmp/sonnets.txt').read()\n",
    "\n",
    "corpus = data.lower().split(\"\\n\")\n",
    "\n",
    "\n",
    "tokenizer.fit_on_texts(corpus)\n",
    "total_words = len(tokenizer.word_index) + 1\n",
    "\n",
    "# create input sequences using list of tokens\n",
    "input_sequences = []\n",
    "for line in corpus:\n",
    "\ttoken_list = tokenizer.texts_to_sequences([line])[0]\n",
    "\tfor i in range(1, len(token_list)):\n",
    "\t\tn_gram_sequence = token_list[:i+1]\n",
    "\t\tinput_sequences.append(n_gram_sequence)\n",
    "\n",
    "\n",
    "# pad sequences \n",
    "max_sequence_len = max([len(x) for x in input_sequences])\n",
    "input_sequences = np.array(pad_sequences(input_sequences, maxlen=max_sequence_len, padding='pre'))\n",
    "\n",
    "# create predictors and label\n",
    "predictors, label = input_sequences[:,:-1],input_sequences[:,-1]\n",
    "\n",
    "label = ku.to_categorical(label, num_classes=total_words)"
   ]
  },
  {
   "cell_type": "code",
   "execution_count": 4,
   "metadata": {
    "colab": {
     "base_uri": "https://localhost:8080/",
     "height": 370
    },
    "colab_type": "code",
    "id": "w9vH8Y59ajYL",
    "outputId": "39e15724-a2cb-4216-8d81-d3518b24ddb3"
   },
   "outputs": [
    {
     "name": "stdout",
     "output_type": "stream",
     "text": [
      "Model: \"sequential\"\n",
      "_________________________________________________________________\n",
      "Layer (type)                 Output Shape              Param #   \n",
      "=================================================================\n",
      "embedding (Embedding)        (None, 10, 100)           321100    \n",
      "_________________________________________________________________\n",
      "bidirectional (Bidirectional (None, 10, 300)           301200    \n",
      "_________________________________________________________________\n",
      "dropout (Dropout)            (None, 10, 300)           0         \n",
      "_________________________________________________________________\n",
      "lstm_1 (LSTM)                (None, 100)               160400    \n",
      "_________________________________________________________________\n",
      "dense (Dense)                (None, 1605)              162105    \n",
      "_________________________________________________________________\n",
      "dense_1 (Dense)              (None, 3211)              5156866   \n",
      "=================================================================\n",
      "Total params: 6,101,671\n",
      "Trainable params: 6,101,671\n",
      "Non-trainable params: 0\n",
      "_________________________________________________________________\n",
      "None\n"
     ]
    }
   ],
   "source": [
    "model = Sequential()\n",
    "model.add(Embedding(total_words, 100, input_length=max_sequence_len-1))\n",
    "model.add(Bidirectional(LSTM(150, return_sequences = True)))\n",
    "model.add(Dropout(0.2))\n",
    "model.add(LSTM(100))\n",
    "model.add(Dense(total_words/2, activation='relu', kernel_regularizer=regularizers.l2(0.01)))\n",
    "model.add(Dense(total_words, activation='softmax'))\n",
    "model.compile(loss='categorical_crossentropy', optimizer='adam', metrics=['accuracy'])\n",
    "print(model.summary())\n"
   ]
  },
  {
   "cell_type": "code",
   "execution_count": 5,
   "metadata": {
    "colab": {
     "base_uri": "https://localhost:8080/",
     "height": 1000
    },
    "colab_type": "code",
    "id": "AIg2f1HBxqof",
    "outputId": "613b6964-b735-467a-9886-a32747211013"
   },
   "outputs": [
    {
     "name": "stdout",
     "output_type": "stream",
     "text": [
      "Epoch 1/100\n",
      "484/484 [==============================] - 6s 12ms/step - loss: 6.8938 - accuracy: 0.0228\n",
      "Epoch 2/100\n",
      "484/484 [==============================] - 6s 12ms/step - loss: 6.4989 - accuracy: 0.0224\n",
      "Epoch 3/100\n",
      "484/484 [==============================] - 6s 12ms/step - loss: 6.4077 - accuracy: 0.0239\n",
      "Epoch 4/100\n",
      "484/484 [==============================] - 6s 12ms/step - loss: 6.2884 - accuracy: 0.0284\n",
      "Epoch 5/100\n",
      "484/484 [==============================] - 6s 12ms/step - loss: 6.1888 - accuracy: 0.0329\n",
      "Epoch 6/100\n",
      "484/484 [==============================] - 6s 12ms/step - loss: 6.1001 - accuracy: 0.0391\n",
      "Epoch 7/100\n",
      "484/484 [==============================] - 6s 12ms/step - loss: 6.0212 - accuracy: 0.0415\n",
      "Epoch 8/100\n",
      "484/484 [==============================] - 6s 12ms/step - loss: 5.9439 - accuracy: 0.0453\n",
      "Epoch 9/100\n",
      "484/484 [==============================] - 6s 12ms/step - loss: 5.8549 - accuracy: 0.0519\n",
      "Epoch 10/100\n",
      "484/484 [==============================] - 6s 12ms/step - loss: 5.7531 - accuracy: 0.0550\n",
      "Epoch 11/100\n",
      "484/484 [==============================] - 6s 12ms/step - loss: 5.6375 - accuracy: 0.0656\n",
      "Epoch 12/100\n",
      "484/484 [==============================] - 6s 12ms/step - loss: 5.5210 - accuracy: 0.0723\n",
      "Epoch 13/100\n",
      "484/484 [==============================] - 6s 12ms/step - loss: 5.4021 - accuracy: 0.0753\n",
      "Epoch 14/100\n",
      "484/484 [==============================] - 6s 12ms/step - loss: 5.2893 - accuracy: 0.0847\n",
      "Epoch 15/100\n",
      "484/484 [==============================] - 6s 12ms/step - loss: 5.1809 - accuracy: 0.0887\n",
      "Epoch 16/100\n",
      "484/484 [==============================] - 6s 12ms/step - loss: 5.0682 - accuracy: 0.1007\n",
      "Epoch 17/100\n",
      "484/484 [==============================] - 6s 12ms/step - loss: 4.9659 - accuracy: 0.1093\n",
      "Epoch 18/100\n",
      "484/484 [==============================] - 6s 12ms/step - loss: 4.8649 - accuracy: 0.1173\n",
      "Epoch 19/100\n",
      "484/484 [==============================] - 6s 12ms/step - loss: 4.7578 - accuracy: 0.1270\n",
      "Epoch 20/100\n",
      "484/484 [==============================] - 6s 12ms/step - loss: 4.6553 - accuracy: 0.1370\n",
      "Epoch 21/100\n",
      "484/484 [==============================] - 6s 12ms/step - loss: 4.5587 - accuracy: 0.1447\n",
      "Epoch 22/100\n",
      "484/484 [==============================] - 6s 12ms/step - loss: 4.4514 - accuracy: 0.1607\n",
      "Epoch 23/100\n",
      "484/484 [==============================] - 6s 12ms/step - loss: 4.3495 - accuracy: 0.1693\n",
      "Epoch 24/100\n",
      "484/484 [==============================] - 6s 12ms/step - loss: 4.2433 - accuracy: 0.1815\n",
      "Epoch 25/100\n",
      "484/484 [==============================] - 6s 12ms/step - loss: 4.1484 - accuracy: 0.1928\n",
      "Epoch 26/100\n",
      "484/484 [==============================] - 6s 12ms/step - loss: 4.0397 - accuracy: 0.2087\n",
      "Epoch 27/100\n",
      "484/484 [==============================] - 6s 12ms/step - loss: 3.9402 - accuracy: 0.2262\n",
      "Epoch 28/100\n",
      "484/484 [==============================] - 6s 12ms/step - loss: 3.8462 - accuracy: 0.2370\n",
      "Epoch 29/100\n",
      "484/484 [==============================] - 6s 12ms/step - loss: 3.7502 - accuracy: 0.2551\n",
      "Epoch 30/100\n",
      "484/484 [==============================] - 6s 12ms/step - loss: 3.6463 - accuracy: 0.2759\n",
      "Epoch 31/100\n",
      "484/484 [==============================] - 6s 12ms/step - loss: 3.5552 - accuracy: 0.2932\n",
      "Epoch 32/100\n",
      "484/484 [==============================] - 6s 12ms/step - loss: 3.4715 - accuracy: 0.3066\n",
      "Epoch 33/100\n",
      "484/484 [==============================] - 6s 12ms/step - loss: 3.3863 - accuracy: 0.3260\n",
      "Epoch 34/100\n",
      "484/484 [==============================] - 6s 12ms/step - loss: 3.3008 - accuracy: 0.3488\n",
      "Epoch 35/100\n",
      "484/484 [==============================] - 6s 12ms/step - loss: 3.2212 - accuracy: 0.3680\n",
      "Epoch 36/100\n",
      "484/484 [==============================] - 6s 12ms/step - loss: 3.1426 - accuracy: 0.3796\n",
      "Epoch 37/100\n",
      "484/484 [==============================] - 6s 12ms/step - loss: 3.0697 - accuracy: 0.4006\n",
      "Epoch 38/100\n",
      "484/484 [==============================] - 6s 12ms/step - loss: 2.9905 - accuracy: 0.4168\n",
      "Epoch 39/100\n",
      "484/484 [==============================] - 6s 12ms/step - loss: 2.9280 - accuracy: 0.4233\n",
      "Epoch 40/100\n",
      "484/484 [==============================] - 6s 12ms/step - loss: 2.8493 - accuracy: 0.4485\n",
      "Epoch 41/100\n",
      "484/484 [==============================] - 6s 12ms/step - loss: 2.7977 - accuracy: 0.4587\n",
      "Epoch 42/100\n",
      "484/484 [==============================] - 6s 12ms/step - loss: 2.7284 - accuracy: 0.4759\n",
      "Epoch 43/100\n",
      "484/484 [==============================] - 6s 13ms/step - loss: 2.6611 - accuracy: 0.4903\n",
      "Epoch 44/100\n",
      "484/484 [==============================] - 6s 12ms/step - loss: 2.6026 - accuracy: 0.5063\n",
      "Epoch 45/100\n",
      "484/484 [==============================] - 6s 12ms/step - loss: 2.5553 - accuracy: 0.5133\n",
      "Epoch 46/100\n",
      "484/484 [==============================] - 6s 12ms/step - loss: 2.4987 - accuracy: 0.5257\n",
      "Epoch 47/100\n",
      "484/484 [==============================] - 6s 12ms/step - loss: 2.4469 - accuracy: 0.5398\n",
      "Epoch 48/100\n",
      "484/484 [==============================] - 6s 12ms/step - loss: 2.4059 - accuracy: 0.5474\n",
      "Epoch 49/100\n",
      "484/484 [==============================] - 6s 12ms/step - loss: 2.3487 - accuracy: 0.5598\n",
      "Epoch 50/100\n",
      "484/484 [==============================] - 6s 12ms/step - loss: 2.2970 - accuracy: 0.5737\n",
      "Epoch 51/100\n",
      "484/484 [==============================] - 6s 12ms/step - loss: 2.2576 - accuracy: 0.5793\n",
      "Epoch 52/100\n",
      "484/484 [==============================] - 6s 12ms/step - loss: 2.2035 - accuracy: 0.5933\n",
      "Epoch 53/100\n",
      "484/484 [==============================] - 6s 12ms/step - loss: 2.1599 - accuracy: 0.6001\n",
      "Epoch 54/100\n",
      "484/484 [==============================] - 6s 12ms/step - loss: 2.1179 - accuracy: 0.6065\n",
      "Epoch 55/100\n",
      "484/484 [==============================] - 6s 12ms/step - loss: 2.0894 - accuracy: 0.6114\n",
      "Epoch 56/100\n",
      "484/484 [==============================] - 6s 12ms/step - loss: 2.0497 - accuracy: 0.6246\n",
      "Epoch 57/100\n",
      "484/484 [==============================] - 6s 12ms/step - loss: 2.0025 - accuracy: 0.6331\n",
      "Epoch 58/100\n",
      "484/484 [==============================] - 6s 12ms/step - loss: 1.9737 - accuracy: 0.6404\n",
      "Epoch 59/100\n",
      "484/484 [==============================] - 6s 12ms/step - loss: 1.9372 - accuracy: 0.6486\n",
      "Epoch 60/100\n",
      "484/484 [==============================] - 6s 12ms/step - loss: 1.9010 - accuracy: 0.6573\n",
      "Epoch 61/100\n",
      "484/484 [==============================] - 6s 12ms/step - loss: 1.8737 - accuracy: 0.6643\n",
      "Epoch 62/100\n",
      "484/484 [==============================] - 6s 12ms/step - loss: 1.8448 - accuracy: 0.6665\n",
      "Epoch 63/100\n",
      "484/484 [==============================] - 6s 12ms/step - loss: 1.8102 - accuracy: 0.6767\n",
      "Epoch 64/100\n",
      "484/484 [==============================] - 6s 12ms/step - loss: 1.7762 - accuracy: 0.6850\n",
      "Epoch 65/100\n",
      "484/484 [==============================] - 6s 12ms/step - loss: 1.7450 - accuracy: 0.6884\n",
      "Epoch 66/100\n",
      "484/484 [==============================] - 6s 12ms/step - loss: 1.7208 - accuracy: 0.6973\n",
      "Epoch 67/100\n",
      "484/484 [==============================] - 6s 12ms/step - loss: 1.6890 - accuracy: 0.7000\n",
      "Epoch 68/100\n",
      "484/484 [==============================] - 6s 12ms/step - loss: 1.6642 - accuracy: 0.7086\n",
      "Epoch 69/100\n",
      "484/484 [==============================] - 6s 12ms/step - loss: 1.6387 - accuracy: 0.7114\n",
      "Epoch 70/100\n",
      "484/484 [==============================] - 6s 12ms/step - loss: 1.6173 - accuracy: 0.7183\n",
      "Epoch 71/100\n",
      "484/484 [==============================] - 6s 12ms/step - loss: 1.5795 - accuracy: 0.7284\n",
      "Epoch 72/100\n",
      "484/484 [==============================] - 6s 12ms/step - loss: 1.5688 - accuracy: 0.7262\n",
      "Epoch 73/100\n",
      "484/484 [==============================] - 6s 12ms/step - loss: 1.5504 - accuracy: 0.7299\n",
      "Epoch 74/100\n",
      "484/484 [==============================] - 6s 12ms/step - loss: 1.5294 - accuracy: 0.7342\n",
      "Epoch 75/100\n",
      "484/484 [==============================] - 6s 12ms/step - loss: 1.5035 - accuracy: 0.7364\n",
      "Epoch 76/100\n",
      "484/484 [==============================] - 6s 12ms/step - loss: 1.4934 - accuracy: 0.7425\n",
      "Epoch 77/100\n",
      "484/484 [==============================] - 6s 12ms/step - loss: 1.4616 - accuracy: 0.7484\n",
      "Epoch 78/100\n",
      "484/484 [==============================] - 6s 12ms/step - loss: 1.4600 - accuracy: 0.7474\n",
      "Epoch 79/100\n",
      "484/484 [==============================] - 6s 12ms/step - loss: 1.4332 - accuracy: 0.7514\n",
      "Epoch 80/100\n",
      "484/484 [==============================] - 6s 12ms/step - loss: 1.4182 - accuracy: 0.7535\n",
      "Epoch 81/100\n",
      "484/484 [==============================] - 6s 12ms/step - loss: 1.3947 - accuracy: 0.7584\n",
      "Epoch 82/100\n",
      "484/484 [==============================] - 6s 12ms/step - loss: 1.3685 - accuracy: 0.7637\n",
      "Epoch 83/100\n",
      "484/484 [==============================] - 6s 12ms/step - loss: 1.3649 - accuracy: 0.7635\n",
      "Epoch 84/100\n",
      "484/484 [==============================] - 6s 12ms/step - loss: 1.3473 - accuracy: 0.7670\n",
      "Epoch 85/100\n",
      "484/484 [==============================] - 6s 12ms/step - loss: 1.3238 - accuracy: 0.7709\n",
      "Epoch 86/100\n",
      "484/484 [==============================] - 6s 12ms/step - loss: 1.3140 - accuracy: 0.7728\n",
      "Epoch 87/100\n",
      "484/484 [==============================] - 6s 12ms/step - loss: 1.3001 - accuracy: 0.7758\n",
      "Epoch 88/100\n",
      "484/484 [==============================] - 6s 12ms/step - loss: 1.2832 - accuracy: 0.7788\n",
      "Epoch 89/100\n",
      "484/484 [==============================] - 6s 12ms/step - loss: 1.2752 - accuracy: 0.7808\n",
      "Epoch 90/100\n",
      "484/484 [==============================] - 6s 12ms/step - loss: 1.2641 - accuracy: 0.7804\n",
      "Epoch 91/100\n",
      "484/484 [==============================] - 6s 12ms/step - loss: 1.2683 - accuracy: 0.7803\n",
      "Epoch 92/100\n",
      "484/484 [==============================] - 6s 12ms/step - loss: 1.2484 - accuracy: 0.7810\n",
      "Epoch 93/100\n",
      "484/484 [==============================] - 6s 12ms/step - loss: 1.2247 - accuracy: 0.7870\n",
      "Epoch 94/100\n",
      "484/484 [==============================] - 6s 12ms/step - loss: 1.2070 - accuracy: 0.7924\n",
      "Epoch 95/100\n",
      "484/484 [==============================] - 6s 12ms/step - loss: 1.1998 - accuracy: 0.7926\n",
      "Epoch 96/100\n",
      "484/484 [==============================] - 6s 12ms/step - loss: 1.1902 - accuracy: 0.7912\n",
      "Epoch 97/100\n",
      "484/484 [==============================] - 6s 12ms/step - loss: 1.1863 - accuracy: 0.7922\n",
      "Epoch 98/100\n",
      "484/484 [==============================] - 6s 13ms/step - loss: 1.1718 - accuracy: 0.7971\n",
      "Epoch 99/100\n",
      "484/484 [==============================] - 6s 12ms/step - loss: 1.1609 - accuracy: 0.7984\n",
      "Epoch 100/100\n",
      "484/484 [==============================] - 6s 12ms/step - loss: 1.1438 - accuracy: 0.8014\n"
     ]
    }
   ],
   "source": [
    " history = model.fit(predictors, label, epochs=100, verbose=1)"
   ]
  },
  {
   "cell_type": "code",
   "execution_count": 6,
   "metadata": {
    "colab": {
     "base_uri": "https://localhost:8080/",
     "height": 545
    },
    "colab_type": "code",
    "id": "1fXTEO3GJ282",
    "outputId": "177a036d-b263-4965-8b8d-47393aa54f1c"
   },
   "outputs": [
    {
     "data": {
      "image/png": "[encoded data removed]",
      "text/plain": [
       "<Figure size 432x288 with 1 Axes>"
      ]
     },
     "metadata": {
      "needs_background": "light",
      "tags": []
     },
     "output_type": "display_data"
    },
    {
     "data": {
      "image/png": "[encoded data removed]",
      "text/plain": [
       "<Figure size 432x288 with 1 Axes>"
      ]
     },
     "metadata": {
      "needs_background": "light",
      "tags": []
     },
     "output_type": "display_data"
    }
   ],
   "source": [
    "import matplotlib.pyplot as plt\n",
    "acc = history.history['accuracy']\n",
    "loss = history.history['loss']\n",
    "\n",
    "epochs = range(len(acc))\n",
    "\n",
    "plt.plot(epochs, acc, 'b', label='Training accuracy')\n",
    "plt.title('Training accuracy')\n",
    "\n",
    "plt.figure()\n",
    "\n",
    "plt.plot(epochs, loss, 'b', label='Training Loss')\n",
    "plt.title('Training loss')\n",
    "plt.legend()\n",
    "\n",
    "plt.show()"
   ]
  },
  {
   "cell_type": "code",
   "execution_count": 7,
   "metadata": {
    "colab": {
     "base_uri": "https://localhost:8080/",
     "height": 104
    },
    "colab_type": "code",
    "id": "6Vc6PHgxa6Hm",
    "outputId": "12cb5b3b-1983-47e1-8b56-5af8a0075611"
   },
   "outputs": [
    {
     "name": "stdout",
     "output_type": "stream",
     "text": [
      "WARNING:tensorflow:From <ipython-input-7-622d307fa19a>:7: Sequential.predict_classes (from tensorflow.python.keras.engine.sequential) is deprecated and will be removed after 2021-01-01.\n",
      "Instructions for updating:\n",
      "Please use instead:* `np.argmax(model.predict(x), axis=-1)`,   if your model does multi-class classification   (e.g. if it uses a `softmax` last-layer activation).* `(model.predict(x) > 0.5).astype(\"int32\")`,   if your model does binary classification   (e.g. if it uses a `sigmoid` last-layer activation).\n",
      "Help me Obi Wan Kenobi, you're my only hope with this growing age new bright way bearing crime aside keep back up true tend chary chary chary seen brought in words tongue none light did despise proceed grow twain good rotten warm'd taken fuel burn new bearing new bright bright bright bright bright bright bright bright tongue bright were releasing bright wide skill name bright praise bright heart her sight so last so told in woe lies grow live bright truth bearing thine mind held lust in masonry lover taken impute decrease bearing may sit none taken prove none bright sight go wide chary taken bearing praise none none\n"
     ]
    }
   ],
   "source": [
    "seed_text = \"Help me Obi Wan Kenobi, you're my only hope\"\n",
    "next_words = 100\n",
    "  \n",
    "for _ in range(next_words):\n",
    "\ttoken_list = tokenizer.texts_to_sequences([seed_text])[0]\n",
    "\ttoken_list = pad_sequences([token_list], maxlen=max_sequence_len-1, padding='pre')\n",
    "\tpredicted = model.predict_classes(token_list, verbose=0)\n",
    "\toutput_word = \"\"\n",
    "\tfor word, index in tokenizer.word_index.items():\n",
    "\t\tif index == predicted:\n",
    "\t\t\toutput_word = word\n",
    "\t\t\tbreak\n",
    "\tseed_text += \" \" + output_word\n",
    "print(seed_text)"
   ]
  }
 ],
 "metadata": {
  "accelerator": "GPU",
  "colab": {
   "name": "NLP_Week4_Exercise_Shakespeare_Answer.ipynb",
   "provenance": [],
   "toc_visible": true
  },
  "kernelspec": {
   "display_name": "Python 3",
   "name": "python3"
  }
 },
 "nbformat": 4,
 "nbformat_minor": 0
}
